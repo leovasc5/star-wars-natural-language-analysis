{
 "cells": [
  {
   "cell_type": "code",
   "execution_count": null,
   "metadata": {},
   "outputs": [],
   "source": [
    "import nltk\n",
    "nltk.download('movie_reviws')\n",
    "nltk.download('punkt')\n",
    "\n",
    "from textblob import TextBlob\n",
    "from textblob.sentiments import NaiveBayesAnalyzer"
   ]
  },
  {
   "cell_type": "code",
   "execution_count": 16,
   "metadata": {},
   "outputs": [
    {
     "name": "stdout",
     "output_type": "stream",
     "text": [
      "Sentiment(classification='neg', p_pos=0.1139096061921483, p_neg=0.8860903938078518)\n",
      "Sentiment(classification='pos', p_pos=0.7520102140606317, p_neg=0.247989785939368)\n",
      "Sentiment(classification='pos', p_pos=0.6584967985399425, p_neg=0.3415032014600574)\n"
     ]
    }
   ],
   "source": [
    "print(TextBlob(\"I dont love you\", analyzer=NaiveBayesAnalyzer()).sentiment)\n",
    "print(TextBlob(\"Happiness is in your smile\", analyzer=NaiveBayesAnalyzer()).sentiment)\n",
    "print(TextBlob(\"What time is Marise's class?\", analyzer=NaiveBayesAnalyzer()).sentiment)"
   ]
  }
 ],
 "metadata": {
  "kernelspec": {
   "display_name": "Python 3.10.6 64-bit",
   "language": "python",
   "name": "python3"
  },
  "language_info": {
   "codemirror_mode": {
    "name": "ipython",
    "version": 3
   },
   "file_extension": ".py",
   "mimetype": "text/x-python",
   "name": "python",
   "nbconvert_exporter": "python",
   "pygments_lexer": "ipython3",
   "version": "3.10.6"
  },
  "orig_nbformat": 4,
  "vscode": {
   "interpreter": {
    "hash": "916dbcbb3f70747c44a77c7bcd40155683ae19c65e1c03b4aa3499c5328201f1"
   }
  }
 },
 "nbformat": 4,
 "nbformat_minor": 2
}
