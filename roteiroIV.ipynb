{
 "cells": [
  {
   "cell_type": "markdown",
   "metadata": {},
   "source": [
    "### Preparando o Ambiente"
   ]
  },
  {
   "cell_type": "code",
   "execution_count": null,
   "metadata": {},
   "outputs": [],
   "source": [
    "import pandas as pd\n",
    "import numpy as np\n",
    "import matplotlib.pyplot as plt\n",
    "import nltk\n",
    "nltk.download('movie_reviws')\n",
    "nltk.download('punkt')\n",
    "\n",
    "from textblob import TextBlob\n",
    "from textblob.sentiments import NaiveBayesAnalyzer\n",
    "\n",
    "import translators as ts"
   ]
  },
  {
   "cell_type": "markdown",
   "metadata": {},
   "source": [
    "A biblioteca pandas será utilizada para podermos transformar os arquivos de texto em conjuntos de dados. Ela auxiliará com funções próprias o tratamento desses dados também."
   ]
  },
  {
   "cell_type": "markdown",
   "metadata": {},
   "source": [
    "A biblioteca NLTK é um conjunto de bibliotecas e programas que processam strings em linguagem natural e retornam dados estátisticos sobre o texto. No caso foi utilizado os pacotes movie_revis punkt para poder acessar algumas ferramentas da biblioteca.\n",
    "Por meio dessa biblioteca foi possível utilizar o pacote textblob, que possui um algoritmo que identifica os sentimentos de uma string."
   ]
  },
  {
   "cell_type": "markdown",
   "metadata": {},
   "source": [
    "Foi usado a fim de testes a biblioteca \"translators\", que utiliza-se de APIs externas para traduzir os textos.\n",
    "<div>\n",
    "<img src=\"https://miro.medium.com/max/1400/1*wC3LH4Xe90U8guP9jBgBVg.png\" width=\"800\"/>\n",
    "</div>\n",
    "https://towardsdatascience.com/language-translation-using-python-bd8020772ccc\n",
    "\n",
    "A biblioteca acabou não sendo utilizada pelo tempo que demoraria para cada requisição chegar. A cada diálogo era lançada uma requisição que inseria em um novo arquivo CSV as falas traduzidas para inglês."
   ]
  },
  {
   "cell_type": "markdown",
   "metadata": {},
   "source": [
    "### Extraindo os Dados"
   ]
  },
  {
   "cell_type": "code",
   "execution_count": 132,
   "metadata": {},
   "outputs": [],
   "source": [
    "roteiro = open('data/SW_EpisodeIV_ptBR.txt', 'r')\n",
    "\n",
    "roteiro_csv = open('data/roteiroIV.csv', 'w')\n",
    "\n",
    "ct = 0\n",
    "for i in roteiro:\n",
    "    x = i.split(f'\"')\n",
    "\n",
    "    if ct != 0:\n",
    "        roteiro_csv.write(f'\"{x[3]}\";\"{x[5]}\"\\n')\n",
    "    else:\n",
    "        roteiro_csv.write(f'\"{x[1]}\";\"{x[3]}\"\\n')\n",
    "    ct+=1\n",
    "\n",
    "roteiro_csv.close()\n",
    "roteiro.close()"
   ]
  },
  {
   "cell_type": "markdown",
   "metadata": {},
   "source": [
    "Ao abrirmos o arquivo .txt que possui o roteiro do filme, é possível notar que ele é estruturado da seguinte maneira: \"Personagem\" \"Diálogo\"."
   ]
  },
  {
   "cell_type": "markdown",
   "metadata": {},
   "source": [
    "Logo, criando laço de repetição é possível ler linha por linha do arquivo, separar o personagem do diálogo e inseri-los separadamente numa estrutura de arquivo .csv em um novo arquivo que poderá ser explorado para a análise."
   ]
  },
  {
   "cell_type": "code",
   "execution_count": 393,
   "metadata": {},
   "outputs": [],
   "source": [
    "df = pd.read_csv('data/roteiroIV.csv', sep=\";\")\n",
    "df.rename(columns={'diálogo': 'dialogo'}, inplace=True)"
   ]
  },
  {
   "cell_type": "markdown",
   "metadata": {},
   "source": [
    "A variável \"df\" receberá o conjunto de dados extraídos do arquivo CSV"
   ]
  },
  {
   "cell_type": "markdown",
   "metadata": {},
   "source": [
    "### Tratando os Dados"
   ]
  },
  {
   "cell_type": "code",
   "execution_count": 395,
   "metadata": {},
   "outputs": [],
   "source": [
    "top5 = df['personagem'].value_counts().keys()[0:5]"
   ]
  },
  {
   "cell_type": "markdown",
   "metadata": {},
   "source": [
    "Ao chamar a função \"value_counts()\" em uma coluna de um conjunto de dados, ela retornará um resumo dos dados mais repetidos de tal coluna de maneira decrescente. Isso gera um dicionário com chave e valor, ao capturarmos apenas as primeiras cinco chaves, conseguimos capturar os primeiros cinco nomes que logicamente são os personagens com mais falas no roteiro."
   ]
  },
  {
   "cell_type": "code",
   "execution_count": 396,
   "metadata": {},
   "outputs": [],
   "source": [
    "dict_falas = {}\n",
    "\n",
    "for i in top5:\n",
    "    dict_falas[f'{i}'] = df.loc[(df['personagem'] == i), ['dialogo']]"
   ]
  },
  {
   "cell_type": "markdown",
   "metadata": {},
   "source": [
    "Foi criado uma objeto do tipo dicionário que armazena como chave o personagem e suas falas.\n",
    "A propriedade \"loc\" de um conjunto de dados retorna um grupo de linhas e colunas de acordo com os parâmetros passados. No caso, era necessário pegar a coluna de diálogo de cada personagem."
   ]
  },
  {
   "cell_type": "code",
   "execution_count": null,
   "metadata": {},
   "outputs": [],
   "source": [
    "roteiro_csv_en = open('data/roteiroIVen.csv', 'w')\n",
    "roteiro_csv_en.write('\"character\";\"dialogue\"\\n')\n",
    "\n",
    "for i in top5:\n",
    "    for j in dict_falas[i]['dialogo']:\n",
    "        roteiro_csv_en.write('\"{}\";\"{}\"\\n'.format(i, ts.google(j, from_language='pt', to_language='en')))"
   ]
  },
  {
   "cell_type": "markdown",
   "metadata": {},
   "source": [
    "Demonstração da bilbioteca de tradução funcionando e inserindo o retorno em um novo arquivo."
   ]
  },
  {
   "cell_type": "code",
   "execution_count": 421,
   "metadata": {},
   "outputs": [],
   "source": [
    "df = pd.read_csv('data/roteiroIVen.csv', sep=\";\")\n",
    "top5 = df['character'].value_counts().keys()[0:5]\n",
    "\n",
    "dict_falas_en = {}\n",
    "\n",
    "for i in top5:\n",
    "    dict_falas_en[f'{i}'] = df.loc[(df['character'] == i), ['dialogue']]"
   ]
  },
  {
   "cell_type": "markdown",
   "metadata": {},
   "source": [
    "Como não foi possível traduzir pela biblioteca, o trabalho foi feito a mão pelo Google Tradutor.\n",
    "Novamente foi separado os personagens com mais falas e seus diálogos. É necessário executar esta atividade novamente por conta de uma diferenciação que a tradução traz."
   ]
  },
  {
   "cell_type": "markdown",
   "metadata": {},
   "source": [
    "### Analisando os Dados"
   ]
  },
  {
   "cell_type": "code",
   "execution_count": 135,
   "metadata": {},
   "outputs": [],
   "source": [
    "cols = ('character', 'dialogue', 'class', 'pos_value', 'neg_value')\n",
    "df_sents = pd.DataFrame(columns = cols)\n",
    "\n",
    "for i in dict_falas_en:\n",
    "    for j in dict_falas_en[i]['dialogue']:\n",
    "            pos = TextBlob(j, analyzer=NaiveBayesAnalyzer()).sentiment[1]\n",
    "            neg = 1 - pos\n",
    "            prob = ''\n",
    "            \n",
    "            if pos >= 0.75:\n",
    "                prob = 'pos'\n",
    "            elif pos <= 0.25:\n",
    "                prob = 'neg'\n",
    "            else:\n",
    "                prob = 'neu'\n",
    "\n",
    "            linha = pd.Series({'character': i, 'dialogue': j, 'class': prob, 'pos_value': pos, 'neg_value': neg})\n",
    "            df_sents = pd.concat([df_sents, pd.DataFrame([linha], columns=linha.index)])"
   ]
  },
  {
   "cell_type": "markdown",
   "metadata": {},
   "source": [
    "Para que fosse classificada cada frase do filme, foi necessário utilizar laços de repetição para capturar as falas e implementasse a ferramenta de processamento de linguagem natural.\n",
    "\n",
    "Ela retornava uma tupla com alguns dados ao chamar a propriedade \"sentiment\". No caso, esse retorno devolvia respectivamente: \"classificacao\", \"probabilidade positiva\" e \"probabilidade negativa\".\n",
    "\n",
    "No código fora capturado todos esses dados e implementados dentro de um objeto do tipo Series (Pandas) que recebia um dicionário para que fosse concatenado com o restante do conjunto de dados.\n",
    "\n",
    "E vua-la, temos um conjunto de dados com as frases classificadas de acordo com os sentimentos passados."
   ]
  },
  {
   "cell_type": "code",
   "execution_count": 291,
   "metadata": {},
   "outputs": [],
   "source": [
    "# df_sents.to_csv('data/roteiroIVclassificado.csv')"
   ]
  },
  {
   "cell_type": "markdown",
   "metadata": {},
   "source": [
    "Agora o conjunto de dados era exportado como CSV para que o trabalho de processamento que durou horas não fosse perdido."
   ]
  },
  {
   "cell_type": "code",
   "execution_count": 435,
   "metadata": {},
   "outputs": [],
   "source": [
    "df = pd.read_csv('data/roteiroIVclassificado.csv', sep=\";\").dropna()"
   ]
  },
  {
   "cell_type": "markdown",
   "metadata": {},
   "source": [
    "Esse conjunto é importado novamente e eliminamos todas as colunas que possívelmente estejam não integras."
   ]
  },
  {
   "cell_type": "code",
   "execution_count": 400,
   "metadata": {},
   "outputs": [],
   "source": [
    "def percent(personagem, value):\n",
    "    x = df.loc[(df['character'] == personagem), [value]]\n",
    "    ct = count = 0\n",
    "\n",
    "    for i in x[value]:\n",
    "        ct += float(i)\n",
    "        count += 1\n",
    "    \n",
    "    return round(ct / count, 2)"
   ]
  },
  {
   "cell_type": "markdown",
   "metadata": {},
   "source": [
    "Foi criada essa função \"percent\" para poder puxar a quantidade total de algum campo (\"value\") e depois se dividia pela quantidades de repetição, criando-se assim a média em porcentagem.\n",
    "\n",
    "Como esse valor também era passado para seu campo oposto, as médias se tornavam porcentagens para descobrir como o algoritmo da ferramenta se comportou com as falas de cada personagem.\n",
    "(Usado no primeiro plot)"
   ]
  },
  {
   "cell_type": "code",
   "execution_count": 518,
   "metadata": {},
   "outputs": [],
   "source": [
    "estatisticas = {}\n",
    "\n",
    "for i in df['character'].value_counts().keys():\n",
    "    estatisticas[i] = {\n",
    "        'pos': df.loc[(df['character'] == i) & (df['class'] == 'pos'), ['class']].value_counts(),\n",
    "        'pos_percent': percent(i, 'pos_value') * 100,\n",
    "        'neg': df.loc[(df['character'] == i) & (df['class'] == 'neg'), ['class']].value_counts(),\n",
    "        'neg_percent': percent(i, 'neg_value') * 100,\n",
    "        'neu': df.loc[(df['character'] == i) & (df['class'] == 'neu'), ['class']].value_counts(),\n",
    "    }"
   ]
  },
  {
   "cell_type": "markdown",
   "metadata": {},
   "source": [
    "Foi criado um dicionário que recebia todas os personagens do roteiro e criava estatísticas para cada personagem."
   ]
  },
  {
   "cell_type": "code",
   "execution_count": 521,
   "metadata": {},
   "outputs": [
    {
     "data": {
      "image/png": "[encoded data removed]",
      "text/plain": [
       "<Figure size 640x480 with 1 Axes>"
      ]
     },
     "metadata": {},
     "output_type": "display_data"
    }
   ],
   "source": [
    "posPercent = negPercent = ()\n",
    "\n",
    "for i in top5:\n",
    "    posPercent = posPercent + (estatisticas[i]['pos_percent'],)\n",
    "    negPercent = negPercent + (estatisticas[i]['neg_percent'],)\n",
    "\n",
    "ind = np.arange(5)  \n",
    "width = 0.35\n",
    "\n",
    "fig = plt.figure()\n",
    "ax = fig.add_subplot(111)\n",
    "\n",
    "rects1 = ax.bar(ind, posPercent, width, color='seagreen')\n",
    "rects2 = ax.bar(ind+width, negPercent, width, color='indianred')\n",
    "\n",
    "ax.set_ylabel('Percentil')\n",
    "ax.set_title('Como o algoritmo processou as falas')\n",
    "ax.set_xticks(ind + width / 2)\n",
    "ax.set_xticklabels(top5)\n",
    "\n",
    "ax.legend((rects1[0], rects2[0]), ('Positivas', 'Negativas'))\n",
    "\n",
    "plt.show()"
   ]
  },
  {
   "cell_type": "code",
   "execution_count": 522,
   "metadata": {},
   "outputs": [
    {
     "data": {
      "image/png": "[encoded data removed]",
      "text/plain": [
       "<Figure size 640x480 with 1 Axes>"
      ]
     },
     "metadata": {},
     "output_type": "display_data"
    }
   ],
   "source": [
    "qtdPos = qtdNeg = qtdNeu = ()\n",
    "\n",
    "for i in top5:  \n",
    "    qtdPos = qtdPos + (estatisticas[i]['pos'][0],)\n",
    "    qtdNeg = qtdNeg + (estatisticas[i]['neg'][0],)\n",
    "    qtdNeu = qtdNeu + (estatisticas[i]['neu'][0],)\n",
    "\n",
    "ind = np.arange(5)  \n",
    "width = 0.30\n",
    "\n",
    "fig = plt.figure()\n",
    "ax = fig.add_subplot(111)\n",
    "\n",
    "rects1 = ax.bar(ind, qtdPos, width, color='seagreen')\n",
    "rects2 = ax.bar(ind+width, qtdNeg, width, color='indianred')\n",
    "rects3 = ax.bar(ind+width*2, qtdNeu, width, color='mediumslateblue')\n",
    "\n",
    "ax.set_ylabel('Percentil')\n",
    "ax.set_title('Como o algoritmo *filtrado* processou as falas')\n",
    "ax.set_xticks(ind + width / 3)\n",
    "ax.set_xticklabels(top5)\n",
    "\n",
    "ax.legend((rects1[0], rects2[0], rects3[0],), ('Positivas', 'Negativas', 'Neutras'))\n",
    "\n",
    "plt.show()"
   ]
  }
 ],
 "metadata": {
  "kernelspec": {
   "display_name": "Python 3.10.6 64-bit",
   "language": "python",
   "name": "python3"
  },
  "language_info": {
   "codemirror_mode": {
    "name": "ipython",
    "version": 3
   },
   "file_extension": ".py",
   "mimetype": "text/x-python",
   "name": "python",
   "nbconvert_exporter": "python",
   "pygments_lexer": "ipython3",
   "version": "3.10.6"
  },
  "orig_nbformat": 4,
  "vscode": {
   "interpreter": {
    "hash": "916dbcbb3f70747c44a77c7bcd40155683ae19c65e1c03b4aa3499c5328201f1"
   }
  }
 },
 "nbformat": 4,
 "nbformat_minor": 2
}
